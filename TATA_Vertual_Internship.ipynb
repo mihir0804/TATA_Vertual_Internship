{
  "nbformat": 4,
  "nbformat_minor": 0,
  "metadata": {
    "colab": {
      "provenance": [],
      "authorship_tag": "ABX9TyOlpcx7jE2jjLDO8EAw6SNo",
      "include_colab_link": true
    },
    "kernelspec": {
      "name": "python3",
      "display_name": "Python 3"
    },
    "language_info": {
      "name": "python"
    }
  },
  "cells": [
    {
      "cell_type": "markdown",
      "metadata": {
        "id": "view-in-github",
        "colab_type": "text"
      },
      "source": [
        "<a href=\"https://colab.research.google.com/github/mihir0804/TATA_Vertual_Internship/blob/main/TATA_Vertual_Internship.ipynb\" target=\"_parent\"><img src=\"https://colab.research.google.com/assets/colab-badge.svg\" alt=\"Open In Colab\"/></a>"
      ]
    },
    {
      "cell_type": "code",
      "source": [
        "import pandas as pd\n",
        "\n",
        "# Reload the Excel file\n",
        "df = pd.read_excel('/content/Online Retail.xlsx')\n",
        "\n",
        "# Clean the data\n",
        "df.dropna(subset=['CustomerID'], inplace=True)\n",
        "df['Revenue'] = df['Quantity'] * df['UnitPrice']\n",
        "df['InvoiceDate'] = pd.to_datetime(df['InvoiceDate'])"
      ],
      "metadata": {
        "id": "_ui7dOk0lg2I"
      },
      "execution_count": null,
      "outputs": []
    },
    {
      "cell_type": "code",
      "source": [
        "# Filter for one country to reduce noise (e.g., United Kingdom)\n",
        "basket = df[df['Country'] == \"United Kingdom\"].pivot_table(\n",
        "    index='InvoiceNo',\n",
        "    columns='Description',\n",
        "    values='Quantity',\n",
        "    aggfunc='sum'\n",
        ").fillna(0)\n",
        "\n",
        "# Convert quantities to 1 (purchased) or 0 (not purchased)\n",
        "basket_binary = basket.applymap(lambda x: 1 if x > 0 else 0)"
      ],
      "metadata": {
        "id": "lVxdh0aklrty"
      },
      "execution_count": null,
      "outputs": []
    },
    {
      "cell_type": "code",
      "source": [
        "# Filter for UK data\n",
        "basket = df[df['Country'] == \"United Kingdom\"].pivot_table(\n",
        "    index='InvoiceNo',\n",
        "    columns='Description',\n",
        "    values='Quantity',\n",
        "    aggfunc='sum'\n",
        ").fillna(0)\n",
        "\n",
        "# Convert to boolean\n",
        "basket_binary = basket > 0\n",
        "\n",
        "# Run Apriori\n",
        "from mlxtend.frequent_patterns import apriori, association_rules\n",
        "\n",
        "frequent_items = apriori(basket_binary, min_support=0.01, use_colnames=True)\n",
        "rules = association_rules(frequent_items, metric=\"lift\", min_threshold=1.0)\n",
        "\n",
        "rules.sort_values('lift', ascending=False).head(10)"
      ],
      "metadata": {
        "id": "E0qKETTCmAxo"
      },
      "execution_count": null,
      "outputs": []
    },
    {
      "cell_type": "code",
      "source": [
        "import matplotlib.pyplot as plt\n",
        "import seaborn as sns\n",
        "\n",
        "# Take top 10 rules sorted by lift\n",
        "top_rules = rules.sort_values('lift', ascending=False).head(10)\n",
        "\n",
        "# Plot\n",
        "plt.figure(figsize=(10, 6))\n",
        "sns.barplot(x=top_rules['lift'], y=top_rules['antecedents'].apply(lambda x: ', '.join(list(x))))\n",
        "plt.title('Top 10 Association Rules by Lift')\n",
        "plt.xlabel('Lift')\n",
        "plt.ylabel('Antecedent Products')\n",
        "plt.grid(axis='x')\n",
        "plt.tight_layout()\n",
        "plt.show()"
      ],
      "metadata": {
        "id": "wrVBOkZumCk_"
      },
      "execution_count": null,
      "outputs": []
    },
    {
      "cell_type": "code",
      "source": [
        "plt.figure(figsize=(8, 6))\n",
        "sns.scatterplot(data=rules, x='support', y='confidence', size='lift', hue='lift', palette='cool', sizes=(20, 200))\n",
        "plt.title('Association Rules: Support vs Confidence (Bubble = Lift)')\n",
        "plt.xlabel('Support')\n",
        "plt.ylabel('Confidence')\n",
        "plt.legend(title='Lift', bbox_to_anchor=(1.05, 1), loc='upper left')\n",
        "plt.grid(True)\n",
        "plt.tight_layout()\n",
        "plt.show()"
      ],
      "metadata": {
        "id": "O5c6keD2mHn1"
      },
      "execution_count": null,
      "outputs": []
    },
    {
      "cell_type": "code",
      "source": [
        "# Convert frozensets to strings for saving\n",
        "rules_export = rules.copy()\n",
        "rules_export['antecedents'] = rules_export['antecedents'].apply(lambda x: ', '.join(list(x)))\n",
        "rules_export['consequents'] = rules_export['consequents'].apply(lambda x: ', '.join(list(x)))\n",
        "\n",
        "# Export\n",
        "rules_export.to_csv('association_rules.csv', index=False)\n",
        "\n",
        "# Download from Colab\n",
        "from google.colab import files\n",
        "files.download('association_rules.csv')"
      ],
      "metadata": {
        "id": "tAqoe3CwmL3O"
      },
      "execution_count": null,
      "outputs": []
    }
  ]
}